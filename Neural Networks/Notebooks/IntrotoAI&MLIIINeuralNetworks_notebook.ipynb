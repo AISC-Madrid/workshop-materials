{
  "cells": [
    {
      "cell_type": "markdown",
      "source": [
        "by Hugo Centeno Sanz | AISC Madrid\n",
        "\n",
        "100498982@alumnos.ucm3.es"
      ],
      "metadata": {
        "id": "dUItoiHqMSg9"
      },
      "id": "dUItoiHqMSg9"
    },
    {
      "cell_type": "code",
      "execution_count": 1,
      "id": "d7ae9741",
      "metadata": {
        "id": "d7ae9741"
      },
      "outputs": [],
      "source": [
        "import numpy as np\n",
        "import pandas as pd\n",
        "import matplotlib.pyplot as plt"
      ]
    },
    {
      "cell_type": "markdown",
      "id": "5761c4e0",
      "metadata": {
        "id": "5761c4e0"
      },
      "source": [
        "## Conceptos fundamentales"
      ]
    },
    {
      "cell_type": "code",
      "execution_count": 2,
      "id": "bc26d756",
      "metadata": {
        "colab": {
          "base_uri": "https://localhost:8080/",
          "height": 331
        },
        "id": "bc26d756",
        "outputId": "66cc722b-c17f-47e3-a650-aa977c5125e8"
      },
      "outputs": [
        {
          "output_type": "execute_result",
          "data": {
            "text/plain": [
              "   Amount taken (g)  % Effectiveness\n",
              "0               0.0              0.0\n",
              "1               0.1              0.0\n",
              "2               0.2              0.0\n",
              "3               0.5              1.0\n",
              "4               0.6              1.0\n",
              "5               0.7              1.0\n",
              "6               0.8              0.0\n",
              "7               0.9              0.0\n",
              "8               1.0              0.0"
            ],
            "text/html": [
              "\n",
              "  <div id=\"df-f44a14ba-f50e-4e74-87c3-e6037385626e\" class=\"colab-df-container\">\n",
              "    <div>\n",
              "<style scoped>\n",
              "    .dataframe tbody tr th:only-of-type {\n",
              "        vertical-align: middle;\n",
              "    }\n",
              "\n",
              "    .dataframe tbody tr th {\n",
              "        vertical-align: top;\n",
              "    }\n",
              "\n",
              "    .dataframe thead th {\n",
              "        text-align: right;\n",
              "    }\n",
              "</style>\n",
              "<table border=\"1\" class=\"dataframe\">\n",
              "  <thead>\n",
              "    <tr style=\"text-align: right;\">\n",
              "      <th></th>\n",
              "      <th>Amount taken (g)</th>\n",
              "      <th>% Effectiveness</th>\n",
              "    </tr>\n",
              "  </thead>\n",
              "  <tbody>\n",
              "    <tr>\n",
              "      <th>0</th>\n",
              "      <td>0.0</td>\n",
              "      <td>0.0</td>\n",
              "    </tr>\n",
              "    <tr>\n",
              "      <th>1</th>\n",
              "      <td>0.1</td>\n",
              "      <td>0.0</td>\n",
              "    </tr>\n",
              "    <tr>\n",
              "      <th>2</th>\n",
              "      <td>0.2</td>\n",
              "      <td>0.0</td>\n",
              "    </tr>\n",
              "    <tr>\n",
              "      <th>3</th>\n",
              "      <td>0.5</td>\n",
              "      <td>1.0</td>\n",
              "    </tr>\n",
              "    <tr>\n",
              "      <th>4</th>\n",
              "      <td>0.6</td>\n",
              "      <td>1.0</td>\n",
              "    </tr>\n",
              "    <tr>\n",
              "      <th>5</th>\n",
              "      <td>0.7</td>\n",
              "      <td>1.0</td>\n",
              "    </tr>\n",
              "    <tr>\n",
              "      <th>6</th>\n",
              "      <td>0.8</td>\n",
              "      <td>0.0</td>\n",
              "    </tr>\n",
              "    <tr>\n",
              "      <th>7</th>\n",
              "      <td>0.9</td>\n",
              "      <td>0.0</td>\n",
              "    </tr>\n",
              "    <tr>\n",
              "      <th>8</th>\n",
              "      <td>1.0</td>\n",
              "      <td>0.0</td>\n",
              "    </tr>\n",
              "  </tbody>\n",
              "</table>\n",
              "</div>\n",
              "    <div class=\"colab-df-buttons\">\n",
              "\n",
              "  <div class=\"colab-df-container\">\n",
              "    <button class=\"colab-df-convert\" onclick=\"convertToInteractive('df-f44a14ba-f50e-4e74-87c3-e6037385626e')\"\n",
              "            title=\"Convert this dataframe to an interactive table.\"\n",
              "            style=\"display:none;\">\n",
              "\n",
              "  <svg xmlns=\"http://www.w3.org/2000/svg\" height=\"24px\" viewBox=\"0 -960 960 960\">\n",
              "    <path d=\"M120-120v-720h720v720H120Zm60-500h600v-160H180v160Zm220 220h160v-160H400v160Zm0 220h160v-160H400v160ZM180-400h160v-160H180v160Zm440 0h160v-160H620v160ZM180-180h160v-160H180v160Zm440 0h160v-160H620v160Z\"/>\n",
              "  </svg>\n",
              "    </button>\n",
              "\n",
              "  <style>\n",
              "    .colab-df-container {\n",
              "      display:flex;\n",
              "      gap: 12px;\n",
              "    }\n",
              "\n",
              "    .colab-df-convert {\n",
              "      background-color: #E8F0FE;\n",
              "      border: none;\n",
              "      border-radius: 50%;\n",
              "      cursor: pointer;\n",
              "      display: none;\n",
              "      fill: #1967D2;\n",
              "      height: 32px;\n",
              "      padding: 0 0 0 0;\n",
              "      width: 32px;\n",
              "    }\n",
              "\n",
              "    .colab-df-convert:hover {\n",
              "      background-color: #E2EBFA;\n",
              "      box-shadow: 0px 1px 2px rgba(60, 64, 67, 0.3), 0px 1px 3px 1px rgba(60, 64, 67, 0.15);\n",
              "      fill: #174EA6;\n",
              "    }\n",
              "\n",
              "    .colab-df-buttons div {\n",
              "      margin-bottom: 4px;\n",
              "    }\n",
              "\n",
              "    [theme=dark] .colab-df-convert {\n",
              "      background-color: #3B4455;\n",
              "      fill: #D2E3FC;\n",
              "    }\n",
              "\n",
              "    [theme=dark] .colab-df-convert:hover {\n",
              "      background-color: #434B5C;\n",
              "      box-shadow: 0px 1px 3px 1px rgba(0, 0, 0, 0.15);\n",
              "      filter: drop-shadow(0px 1px 2px rgba(0, 0, 0, 0.3));\n",
              "      fill: #FFFFFF;\n",
              "    }\n",
              "  </style>\n",
              "\n",
              "    <script>\n",
              "      const buttonEl =\n",
              "        document.querySelector('#df-f44a14ba-f50e-4e74-87c3-e6037385626e button.colab-df-convert');\n",
              "      buttonEl.style.display =\n",
              "        google.colab.kernel.accessAllowed ? 'block' : 'none';\n",
              "\n",
              "      async function convertToInteractive(key) {\n",
              "        const element = document.querySelector('#df-f44a14ba-f50e-4e74-87c3-e6037385626e');\n",
              "        const dataTable =\n",
              "          await google.colab.kernel.invokeFunction('convertToInteractive',\n",
              "                                                    [key], {});\n",
              "        if (!dataTable) return;\n",
              "\n",
              "        const docLinkHtml = 'Like what you see? Visit the ' +\n",
              "          '<a target=\"_blank\" href=https://colab.research.google.com/notebooks/data_table.ipynb>data table notebook</a>'\n",
              "          + ' to learn more about interactive tables.';\n",
              "        element.innerHTML = '';\n",
              "        dataTable['output_type'] = 'display_data';\n",
              "        await google.colab.output.renderOutput(dataTable, element);\n",
              "        const docLink = document.createElement('div');\n",
              "        docLink.innerHTML = docLinkHtml;\n",
              "        element.appendChild(docLink);\n",
              "      }\n",
              "    </script>\n",
              "  </div>\n",
              "\n",
              "\n",
              "    <div id=\"df-3ba8716e-b1fe-4793-97fc-a1950ab335a2\">\n",
              "      <button class=\"colab-df-quickchart\" onclick=\"quickchart('df-3ba8716e-b1fe-4793-97fc-a1950ab335a2')\"\n",
              "                title=\"Suggest charts\"\n",
              "                style=\"display:none;\">\n",
              "\n",
              "<svg xmlns=\"http://www.w3.org/2000/svg\" height=\"24px\"viewBox=\"0 0 24 24\"\n",
              "     width=\"24px\">\n",
              "    <g>\n",
              "        <path d=\"M19 3H5c-1.1 0-2 .9-2 2v14c0 1.1.9 2 2 2h14c1.1 0 2-.9 2-2V5c0-1.1-.9-2-2-2zM9 17H7v-7h2v7zm4 0h-2V7h2v10zm4 0h-2v-4h2v4z\"/>\n",
              "    </g>\n",
              "</svg>\n",
              "      </button>\n",
              "\n",
              "<style>\n",
              "  .colab-df-quickchart {\n",
              "      --bg-color: #E8F0FE;\n",
              "      --fill-color: #1967D2;\n",
              "      --hover-bg-color: #E2EBFA;\n",
              "      --hover-fill-color: #174EA6;\n",
              "      --disabled-fill-color: #AAA;\n",
              "      --disabled-bg-color: #DDD;\n",
              "  }\n",
              "\n",
              "  [theme=dark] .colab-df-quickchart {\n",
              "      --bg-color: #3B4455;\n",
              "      --fill-color: #D2E3FC;\n",
              "      --hover-bg-color: #434B5C;\n",
              "      --hover-fill-color: #FFFFFF;\n",
              "      --disabled-bg-color: #3B4455;\n",
              "      --disabled-fill-color: #666;\n",
              "  }\n",
              "\n",
              "  .colab-df-quickchart {\n",
              "    background-color: var(--bg-color);\n",
              "    border: none;\n",
              "    border-radius: 50%;\n",
              "    cursor: pointer;\n",
              "    display: none;\n",
              "    fill: var(--fill-color);\n",
              "    height: 32px;\n",
              "    padding: 0;\n",
              "    width: 32px;\n",
              "  }\n",
              "\n",
              "  .colab-df-quickchart:hover {\n",
              "    background-color: var(--hover-bg-color);\n",
              "    box-shadow: 0 1px 2px rgba(60, 64, 67, 0.3), 0 1px 3px 1px rgba(60, 64, 67, 0.15);\n",
              "    fill: var(--button-hover-fill-color);\n",
              "  }\n",
              "\n",
              "  .colab-df-quickchart-complete:disabled,\n",
              "  .colab-df-quickchart-complete:disabled:hover {\n",
              "    background-color: var(--disabled-bg-color);\n",
              "    fill: var(--disabled-fill-color);\n",
              "    box-shadow: none;\n",
              "  }\n",
              "\n",
              "  .colab-df-spinner {\n",
              "    border: 2px solid var(--fill-color);\n",
              "    border-color: transparent;\n",
              "    border-bottom-color: var(--fill-color);\n",
              "    animation:\n",
              "      spin 1s steps(1) infinite;\n",
              "  }\n",
              "\n",
              "  @keyframes spin {\n",
              "    0% {\n",
              "      border-color: transparent;\n",
              "      border-bottom-color: var(--fill-color);\n",
              "      border-left-color: var(--fill-color);\n",
              "    }\n",
              "    20% {\n",
              "      border-color: transparent;\n",
              "      border-left-color: var(--fill-color);\n",
              "      border-top-color: var(--fill-color);\n",
              "    }\n",
              "    30% {\n",
              "      border-color: transparent;\n",
              "      border-left-color: var(--fill-color);\n",
              "      border-top-color: var(--fill-color);\n",
              "      border-right-color: var(--fill-color);\n",
              "    }\n",
              "    40% {\n",
              "      border-color: transparent;\n",
              "      border-right-color: var(--fill-color);\n",
              "      border-top-color: var(--fill-color);\n",
              "    }\n",
              "    60% {\n",
              "      border-color: transparent;\n",
              "      border-right-color: var(--fill-color);\n",
              "    }\n",
              "    80% {\n",
              "      border-color: transparent;\n",
              "      border-right-color: var(--fill-color);\n",
              "      border-bottom-color: var(--fill-color);\n",
              "    }\n",
              "    90% {\n",
              "      border-color: transparent;\n",
              "      border-bottom-color: var(--fill-color);\n",
              "    }\n",
              "  }\n",
              "</style>\n",
              "\n",
              "      <script>\n",
              "        async function quickchart(key) {\n",
              "          const quickchartButtonEl =\n",
              "            document.querySelector('#' + key + ' button');\n",
              "          quickchartButtonEl.disabled = true;  // To prevent multiple clicks.\n",
              "          quickchartButtonEl.classList.add('colab-df-spinner');\n",
              "          try {\n",
              "            const charts = await google.colab.kernel.invokeFunction(\n",
              "                'suggestCharts', [key], {});\n",
              "          } catch (error) {\n",
              "            console.error('Error during call to suggestCharts:', error);\n",
              "          }\n",
              "          quickchartButtonEl.classList.remove('colab-df-spinner');\n",
              "          quickchartButtonEl.classList.add('colab-df-quickchart-complete');\n",
              "        }\n",
              "        (() => {\n",
              "          let quickchartButtonEl =\n",
              "            document.querySelector('#df-3ba8716e-b1fe-4793-97fc-a1950ab335a2 button');\n",
              "          quickchartButtonEl.style.display =\n",
              "            google.colab.kernel.accessAllowed ? 'block' : 'none';\n",
              "        })();\n",
              "      </script>\n",
              "    </div>\n",
              "\n",
              "  <div id=\"id_e612a55a-13b8-41ee-9179-1d69a2b10590\">\n",
              "    <style>\n",
              "      .colab-df-generate {\n",
              "        background-color: #E8F0FE;\n",
              "        border: none;\n",
              "        border-radius: 50%;\n",
              "        cursor: pointer;\n",
              "        display: none;\n",
              "        fill: #1967D2;\n",
              "        height: 32px;\n",
              "        padding: 0 0 0 0;\n",
              "        width: 32px;\n",
              "      }\n",
              "\n",
              "      .colab-df-generate:hover {\n",
              "        background-color: #E2EBFA;\n",
              "        box-shadow: 0px 1px 2px rgba(60, 64, 67, 0.3), 0px 1px 3px 1px rgba(60, 64, 67, 0.15);\n",
              "        fill: #174EA6;\n",
              "      }\n",
              "\n",
              "      [theme=dark] .colab-df-generate {\n",
              "        background-color: #3B4455;\n",
              "        fill: #D2E3FC;\n",
              "      }\n",
              "\n",
              "      [theme=dark] .colab-df-generate:hover {\n",
              "        background-color: #434B5C;\n",
              "        box-shadow: 0px 1px 3px 1px rgba(0, 0, 0, 0.15);\n",
              "        filter: drop-shadow(0px 1px 2px rgba(0, 0, 0, 0.3));\n",
              "        fill: #FFFFFF;\n",
              "      }\n",
              "    </style>\n",
              "    <button class=\"colab-df-generate\" onclick=\"generateWithVariable('df')\"\n",
              "            title=\"Generate code using this dataframe.\"\n",
              "            style=\"display:none;\">\n",
              "\n",
              "  <svg xmlns=\"http://www.w3.org/2000/svg\" height=\"24px\"viewBox=\"0 0 24 24\"\n",
              "       width=\"24px\">\n",
              "    <path d=\"M7,19H8.4L18.45,9,17,7.55,7,17.6ZM5,21V16.75L18.45,3.32a2,2,0,0,1,2.83,0l1.4,1.43a1.91,1.91,0,0,1,.58,1.4,1.91,1.91,0,0,1-.58,1.4L9.25,21ZM18.45,9,17,7.55Zm-12,3A5.31,5.31,0,0,0,4.9,8.1,5.31,5.31,0,0,0,1,6.5,5.31,5.31,0,0,0,4.9,4.9,5.31,5.31,0,0,0,6.5,1,5.31,5.31,0,0,0,8.1,4.9,5.31,5.31,0,0,0,12,6.5,5.46,5.46,0,0,0,6.5,12Z\"/>\n",
              "  </svg>\n",
              "    </button>\n",
              "    <script>\n",
              "      (() => {\n",
              "      const buttonEl =\n",
              "        document.querySelector('#id_e612a55a-13b8-41ee-9179-1d69a2b10590 button.colab-df-generate');\n",
              "      buttonEl.style.display =\n",
              "        google.colab.kernel.accessAllowed ? 'block' : 'none';\n",
              "\n",
              "      buttonEl.onclick = () => {\n",
              "        google.colab.notebook.generateWithVariable('df');\n",
              "      }\n",
              "      })();\n",
              "    </script>\n",
              "  </div>\n",
              "\n",
              "    </div>\n",
              "  </div>\n"
            ],
            "application/vnd.google.colaboratory.intrinsic+json": {
              "type": "dataframe",
              "variable_name": "df",
              "summary": "{\n  \"name\": \"df\",\n  \"rows\": 9,\n  \"fields\": [\n    {\n      \"column\": \"Amount taken (g)\",\n      \"properties\": {\n        \"dtype\": \"number\",\n        \"std\": 0.36055512754639896,\n        \"min\": 0.0,\n        \"max\": 1.0,\n        \"num_unique_values\": 9,\n        \"samples\": [\n          0.9,\n          0.1,\n          0.7\n        ],\n        \"semantic_type\": \"\",\n        \"description\": \"\"\n      }\n    },\n    {\n      \"column\": \"% Effectiveness\",\n      \"properties\": {\n        \"dtype\": \"number\",\n        \"std\": 0.5,\n        \"min\": 0.0,\n        \"max\": 1.0,\n        \"num_unique_values\": 2,\n        \"samples\": [\n          1.0,\n          0.0\n        ],\n        \"semantic_type\": \"\",\n        \"description\": \"\"\n      }\n    }\n  ]\n}"
            }
          },
          "metadata": {},
          "execution_count": 2
        }
      ],
      "source": [
        "# Data\n",
        "data = np.array([[0, 0], [0.1, 0], [0.2, 0], [0.5, 1], [0.6, 1], [0.7, 1], [0.8, 0], [0.9, 0], [1, 0]])\n",
        "df = pd.DataFrame(data, columns=['Amount taken (g)', '% Effectiveness'])\n",
        "df"
      ]
    },
    {
      "cell_type": "code",
      "execution_count": 3,
      "id": "1512ba67",
      "metadata": {
        "id": "1512ba67"
      },
      "outputs": [],
      "source": [
        "def relu(x):\n",
        "    return np.maximum(0, x)"
      ]
    },
    {
      "cell_type": "code",
      "execution_count": 4,
      "id": "8e2e3449",
      "metadata": {
        "id": "8e2e3449"
      },
      "outputs": [],
      "source": [
        "# Representation of our simple NN\n",
        "\n",
        "# Upper path (green)\n",
        "g_1 = 1.43 * df[\"Amount taken (g)\"] - 0.61\n",
        "t_1 = relu(g_1) * (-3.89)\n",
        "\n",
        "# Lower path (red)\n",
        "g_2 = 2.63 * df[\"Amount taken (g)\"] - 0.27\n",
        "t_2 = relu(g_2) * 1.35\n",
        "\n",
        "# Network output\n",
        "t = t_1 + t_2\n",
        "upper_nn = np.array(list(zip(df[\"Amount taken (g)\"], t_1)))\n",
        "lower_nn = np.array(list(zip(df[\"Amount taken (g)\"], t_2)))\n",
        "whole_nn = np.array(list(zip(df[\"Amount taken (g)\"], t)))"
      ]
    },
    {
      "cell_type": "code",
      "execution_count": 5,
      "id": "0d6d0819",
      "metadata": {
        "colab": {
          "base_uri": "https://localhost:8080/",
          "height": 412
        },
        "id": "0d6d0819",
        "outputId": "831fe9e4-c167-4561-e946-11e15ce52618"
      },
      "outputs": [
        {
          "output_type": "display_data",
          "data": {
            "text/plain": [
              "<Figure size 1500x500 with 3 Axes>"
            ],
            "image/png": "[encoded data removed]"
          },
          "metadata": {}
        }
      ],
      "source": [
        "fig, axs = plt.subplots(1, 3, figsize=(15, 5))\n",
        "\n",
        "# Green path (upper)\n",
        "axs[0].scatter(data[:,0], data[:,1], c=\"blue\", marker=\"o\", s=200)\n",
        "axs[0].plot(upper_nn[:,0], upper_nn[:,1], c=\"green\", linestyle=\"-\", linewidth=2)\n",
        "axs[0].set_xlabel(\"Amount taken (g)\")\n",
        "axs[0].set_ylabel(\"Effectiveness\")\n",
        "axs[0].grid(True, linestyle=\"--\", alpha=0.6)\n",
        "\n",
        "# Red path (lower)\n",
        "axs[1].scatter(data[:,0], data[:,1], c=\"blue\", marker=\"o\", s=200)\n",
        "axs[1].plot(lower_nn[:,0], lower_nn[:,1], c=\"red\", linestyle=\"-\", linewidth=2)\n",
        "axs[1].set_xlabel(\"Amount taken (g)\")\n",
        "axs[1].set_ylabel(\"Effectiveness\")\n",
        "axs[1].grid(True, linestyle=\"--\", alpha=0.6)\n",
        "\n",
        "# Sum\n",
        "axs[2].scatter(data[:,0], data[:,1], c=\"blue\", marker=\"o\", s=200)\n",
        "axs[2].plot(df[\"Amount taken (g)\"], t, c=\"black\", linewidth=2)\n",
        "axs[2].set_xlabel(\"Amount taken (g)\")\n",
        "axs[2].set_ylabel(\"Effectiveness\")\n",
        "axs[2].grid(True, linestyle=\"--\", alpha=0.6)\n",
        "\n",
        "plt.tight_layout()\n",
        "plt.show()\n"
      ]
    },
    {
      "cell_type": "markdown",
      "id": "8a401f2b",
      "metadata": {
        "id": "8a401f2b"
      },
      "source": [
        "## Optimización simngle weights & bias con Gradient Descent\n"
      ]
    },
    {
      "cell_type": "markdown",
      "id": "bca30010",
      "metadata": {
        "id": "bca30010"
      },
      "source": [
        "Sin PyTorch"
      ]
    },
    {
      "cell_type": "code",
      "execution_count": 8,
      "id": "85ceaa68",
      "metadata": {
        "id": "85ceaa68"
      },
      "outputs": [],
      "source": [
        "learning_rate = 0.01\n",
        "n_steps = 1000\n",
        "w3 = 0.0"
      ]
    },
    {
      "cell_type": "code",
      "execution_count": 9,
      "id": "2a824e8d",
      "metadata": {
        "colab": {
          "base_uri": "https://localhost:8080/"
        },
        "id": "2a824e8d",
        "outputId": "c320265e-3eb1-4062-dde6-06363fe02c44"
      },
      "outputs": [
        {
          "output_type": "stream",
          "name": "stdout",
          "text": [
            "Final w3: -3.9739981234330077\n"
          ]
        }
      ],
      "source": [
        "for step in range(n_steps):\n",
        "\n",
        "    # Forward pass\n",
        "    dSSRdW3_value = 0\n",
        "    # Upper path\n",
        "    g_1 = 1.43 * df[\"Amount taken (g)\"] - 0.61\n",
        "    t_1 = relu(g_1) * w3\n",
        "\n",
        "    # Lower path\n",
        "    g_2 = 2.63 * df[\"Amount taken (g)\"] - 0.27\n",
        "    t_2 = relu(g_2) * 1.35\n",
        "\n",
        "    # Network output\n",
        "    t = t_1 + t_2\n",
        "\n",
        "    #Backpropagation\n",
        "\n",
        "    # Compute dSSR/dW3 sum[-2*(observed - predicted)*y]\n",
        "    dSSRdW3_value = np.sum(-2*(df[\"% Effectiveness\"] - t) * relu(g_1))\n",
        "\n",
        "    # Redefine W3\n",
        "    w3 = w3 - learning_rate * dSSRdW3_value\n",
        "\n",
        "print(\"Final w3:\", w3)"
      ]
    },
    {
      "cell_type": "markdown",
      "id": "bc4255f8",
      "metadata": {
        "id": "bc4255f8"
      },
      "source": [
        "Con PyTorch"
      ]
    },
    {
      "cell_type": "code",
      "execution_count": 11,
      "id": "fbab962d",
      "metadata": {
        "id": "fbab962d"
      },
      "outputs": [],
      "source": [
        "import torch\n",
        "import torch.nn as nn\n",
        "import torch.nn.functional as F"
      ]
    },
    {
      "cell_type": "code",
      "execution_count": 12,
      "id": "40679a5c",
      "metadata": {
        "colab": {
          "base_uri": "https://localhost:8080/"
        },
        "id": "40679a5c",
        "outputId": "42b49e9e-1185-456d-a141-1e816e12b819"
      },
      "outputs": [
        {
          "output_type": "stream",
          "name": "stdout",
          "text": [
            "Final w3  -3.9739954471588135\n"
          ]
        }
      ],
      "source": [
        "# Columns to torch tensors\n",
        "x = torch.tensor(df[\"Amount taken (g)\"].values, dtype=torch.float32).view(-1, 1)\n",
        "y = torch.tensor(df[\"% Effectiveness\"].values, dtype=torch.float32).view(-1, 1)\n",
        "\n",
        "# Define custom model\n",
        "class SimpleNetwork(nn.Module):\n",
        "    def __init__(self):\n",
        "        super().__init__()\n",
        "        # w3 is the only learnable parameter\n",
        "        self.w3 = nn.Parameter(torch.tensor(0.0))\n",
        "\n",
        "    def forward(self, x):\n",
        "        # Upper path\n",
        "        g1 = 1.43 * x - 0.61\n",
        "        t1 = F.relu(g1) * self.w3\n",
        "\n",
        "        # Lower path\n",
        "        g2 = 2.63 * x - 0.27\n",
        "        t2 = F.relu(g2) * 1.35\n",
        "\n",
        "        # Combination\n",
        "        t = t1 + t2\n",
        "        return t\n",
        "\n",
        "# Instantiate model\n",
        "model = SimpleNetwork()\n",
        "\n",
        "# Define optimizer\n",
        "learning_rate = 0.01\n",
        "optimizer = torch.optim.SGD(model.parameters(), lr=learning_rate)\n",
        "\n",
        "# Training loop\n",
        "n_steps = 1000\n",
        "for step in range(n_steps):\n",
        "    # Forward pass\n",
        "    preds = model(x)\n",
        "\n",
        "    # Compute loss (Sum of Squared Residuals)\n",
        "    loss = torch.sum((y - preds) ** 2)\n",
        "\n",
        "    # Backward pass\n",
        "    optimizer.zero_grad()\n",
        "    loss.backward()\n",
        "    optimizer.step()\n",
        "\n",
        "print(\"Final w3 \", model.w3.item())"
      ]
    },
    {
      "cell_type": "markdown",
      "id": "e9bef931",
      "metadata": {
        "id": "e9bef931"
      },
      "source": [
        "## Optimización multiples weights & bias con Gradient Descent\n"
      ]
    },
    {
      "cell_type": "code",
      "execution_count": 13,
      "id": "4534e25c",
      "metadata": {
        "id": "4534e25c"
      },
      "outputs": [],
      "source": [
        "learning_rate = 1e-4\n",
        "n_steps = 1000\n",
        "w1, w2, w3, w4 = 0.06, 3.49, -4.11, 2.74\n",
        "b1, b2 = 0.01, 0.01"
      ]
    },
    {
      "cell_type": "code",
      "execution_count": 14,
      "id": "a92b3b7f",
      "metadata": {
        "id": "a92b3b7f"
      },
      "outputs": [],
      "source": [
        "def derivative_relu(x):\n",
        "    return x > 0"
      ]
    },
    {
      "cell_type": "code",
      "execution_count": 15,
      "id": "fb42446f",
      "metadata": {
        "colab": {
          "base_uri": "https://localhost:8080/"
        },
        "id": "fb42446f",
        "outputId": "ea416759-5107-4245-e212-998dc7f32fc0"
      },
      "outputs": [
        {
          "output_type": "stream",
          "name": "stdout",
          "text": [
            "Final w1: 1.1555479955718957\n",
            "Final b1: 1.1297235590929304\n",
            "Final w3: -4.116886860130573\n",
            "Final w2: 2.5412978411764553\n",
            "Final b2: -1.3482473321541142\n",
            "Final w4: 0.1245786758060286\n"
          ]
        }
      ],
      "source": [
        "for step in range(n_steps):\n",
        "\n",
        "    # Forward pass\n",
        "    dSSRdW3_value = 0\n",
        "    dSSRdB1_value = 0\n",
        "    dSSRdW1_value = 0\n",
        "\n",
        "    dSSRdW4_value = 0\n",
        "    dSSRdB2_value = 0\n",
        "    dSSRdW2_value = 0\n",
        "\n",
        "    # Upper path\n",
        "    g_1 = w1 * df[\"Amount taken (g)\"] - b1\n",
        "    t_1 = relu(g_1) * w3\n",
        "\n",
        "    # Lower path\n",
        "    g_2 = w2 * df[\"Amount taken (g)\"] - b2\n",
        "    t_2 = relu(g_2) * w4\n",
        "\n",
        "    # Network output\n",
        "    t = t_1 + t_2\n",
        "\n",
        "    #Backpropagation\n",
        "\n",
        "    #Upper path\n",
        "    # Compute dSSR/dW3 recall expression from slides\n",
        "    dSSRdW3_value = np.sum(-2*(df[\"% Effectiveness\"] - t) * relu(g_1))\n",
        "    # Compute dSSR/dB1 recall expression from slides\n",
        "    dSSRdB1_value = np.sum(-2*(df[\"% Effectiveness\"] - t) * w3 * derivative_relu(g_1) * 1)\n",
        "    # Compute dSSR/dW1 recall expression from slides\n",
        "    dSSRdW1_value = np.sum(-2*(df[\"% Effectiveness\"] - t) * w3 * derivative_relu(g_1) * df[\"Amount taken (g)\"])\n",
        "\n",
        "    #Lower path\n",
        "    # Compute dSSR/dW4 recall expression from slides\n",
        "    dSSRdW4_value = np.sum(-2*(df[\"% Effectiveness\"] - t) * relu(g_2))\n",
        "    # Compute dSSR/dB2 recall expression from slides\n",
        "    dSSRdB2_value = np.sum(-2*(df[\"% Effectiveness\"] - t) * w4 * derivative_relu(g_2) * 1)\n",
        "    # Compute dSSR/dW2 recall expression from slides\n",
        "    dSSRdW2_value = np.sum(-2*(df[\"% Effectiveness\"] - t) * w4 * derivative_relu(g_2) * df[\"Amount taken (g)\"])\n",
        "\n",
        "    # Redefine parameters\n",
        "\n",
        "    # Upper path\n",
        "    w3 = w3 - learning_rate * dSSRdW3_value\n",
        "    b1 = b1 - learning_rate * dSSRdB1_value\n",
        "    w1 = w1 - learning_rate * dSSRdW1_value\n",
        "\n",
        "    # Lower path\n",
        "    w4 = w4 - learning_rate * dSSRdW4_value\n",
        "    b2 = b2 - learning_rate * dSSRdB2_value\n",
        "    w2 = w2 - learning_rate * dSSRdW2_value\n",
        "\n",
        "print(\"Final w1:\", w1)\n",
        "print(\"Final b1:\", b1)\n",
        "print(\"Final w3:\", w3)\n",
        "\n",
        "print(\"Final w2:\", w2)\n",
        "print(\"Final b2:\", b2)\n",
        "print(\"Final w4:\", w4)"
      ]
    },
    {
      "cell_type": "code",
      "execution_count": 16,
      "id": "55236939",
      "metadata": {
        "id": "55236939"
      },
      "outputs": [],
      "source": [
        "learning_rate = 1e-4\n",
        "n_steps = 10000\n",
        "w1, w2, w3, w4 = 0.06, 3.49, -4.11, 2.74\n",
        "b1, b2 = 0.01, 0.01"
      ]
    },
    {
      "cell_type": "code",
      "execution_count": 17,
      "id": "ddadea23",
      "metadata": {
        "id": "ddadea23"
      },
      "outputs": [],
      "source": [
        "import torch.optim as optim"
      ]
    },
    {
      "cell_type": "code",
      "execution_count": 18,
      "id": "a4e5d074",
      "metadata": {
        "colab": {
          "base_uri": "https://localhost:8080/"
        },
        "id": "a4e5d074",
        "outputId": "c8035870-4865-42e5-acbf-1c059a2b8f5f"
      },
      "outputs": [
        {
          "output_type": "stream",
          "name": "stdout",
          "text": [
            "w1: 1.5093123685184267\n",
            "b1: -0.7209795019364833\n",
            "w3: -4.435007414397751\n",
            "w2: 2.6312205509452284\n",
            "b2: -0.5066166930959535\n",
            "w4: 1.5828236736736923\n"
          ]
        }
      ],
      "source": [
        "# Prepare data (convert pandas columns to tensors)\n",
        "x = torch.tensor(df[\"Amount taken (g)\"].values, dtype=torch.float64).unsqueeze(1)\n",
        "y = torch.tensor(df[\"% Effectiveness\"].values, dtype=torch.float64).unsqueeze(1)\n",
        "\n",
        "# Define the model (two-path ReLU network)\n",
        "class TwoPathReLU(nn.Module):\n",
        "    def __init__(self):\n",
        "        super().__init__()\n",
        "\n",
        "        self.w1 = nn.Parameter(torch.tensor([w1], dtype=torch.float32))\n",
        "        self.b1 = nn.Parameter(torch.tensor([b1], dtype=torch.float32))\n",
        "        self.w3 = nn.Parameter(torch.tensor([w3], dtype=torch.float32))\n",
        "\n",
        "        self.w2 = nn.Parameter(torch.tensor([w2], dtype=torch.float32))\n",
        "        self.b2 = nn.Parameter(torch.tensor([b2], dtype=torch.float32))\n",
        "        self.w4 = nn.Parameter(torch.tensor([w4], dtype=torch.float32))\n",
        "\n",
        "    def forward(self, x):\n",
        "        g1 = self.w1 * x + self.b1\n",
        "        g2 = self.w2 * x + self.b2\n",
        "        t1 = torch.relu(g1) * self.w3\n",
        "        t2 = torch.relu(g2) * self.w4\n",
        "        return t1 + t2\n",
        "\n",
        "# Instantiate model\n",
        "model = TwoPathReLU().double()\n",
        "\n",
        "# Define loss and optimizer\n",
        "criterion = nn.MSELoss(reduction='sum')\n",
        "optimizer = optim.SGD(model.parameters(), lr=learning_rate)\n",
        "\n",
        "# Training loop\n",
        "\n",
        "for step in range(n_steps):\n",
        "    # Forward pass\n",
        "    y_pred = model(x)\n",
        "    loss = criterion(y_pred, y)\n",
        "\n",
        "    # Backward pass\n",
        "    optimizer.zero_grad()\n",
        "    loss.backward()\n",
        "    optimizer.step()\n",
        "\n",
        "# Print final parameters\n",
        "for name, param in model.named_parameters():\n",
        "    print(f\"{name}: {param.item()}\")"
      ]
    },
    {
      "cell_type": "code",
      "execution_count": 19,
      "id": "0cf3f9a0",
      "metadata": {
        "colab": {
          "base_uri": "https://localhost:8080/",
          "height": 565
        },
        "id": "0cf3f9a0",
        "outputId": "1ee6c262-86a6-4d3a-b824-3f655a4b5d8f"
      },
      "outputs": [
        {
          "output_type": "display_data",
          "data": {
            "text/plain": [
              "<Figure size 1000x600 with 1 Axes>"
            ],
            "image/png": "[encoded data removed]"
          },
          "metadata": {}
        }
      ],
      "source": [
        "with torch.no_grad():\n",
        "    y_pred = model(x)\n",
        "\n",
        "plt.figure(figsize=(10, 6))\n",
        "\n",
        "# Original data\n",
        "plt.plot(x.numpy(), y.numpy(), 'o', label='Datos Originales')\n",
        "\n",
        "sorted_indices = torch.argsort(x.squeeze())\n",
        "plt.plot(x[sorted_indices].numpy(), y_pred[sorted_indices].numpy(), '-', color='red', linewidth=2, label='Predicción de la Red Neuronal')\n",
        "\n",
        "plt.title('Comparación: Datos Originales vs. Predicción del Modelo')\n",
        "plt.xlabel('x')\n",
        "plt.ylabel('y')\n",
        "plt.legend()\n",
        "plt.grid(True)\n",
        "plt.show()"
      ]
    }
  ],
  "metadata": {
    "kernelspec": {
      "display_name": "base",
      "language": "python",
      "name": "python3"
    },
    "language_info": {
      "codemirror_mode": {
        "name": "ipython",
        "version": 3
      },
      "file_extension": ".py",
      "mimetype": "text/x-python",
      "name": "python",
      "nbconvert_exporter": "python",
      "pygments_lexer": "ipython3",
      "version": "3.12.9"
    },
    "colab": {
      "provenance": []
    }
  },
  "nbformat": 4,
  "nbformat_minor": 5
}