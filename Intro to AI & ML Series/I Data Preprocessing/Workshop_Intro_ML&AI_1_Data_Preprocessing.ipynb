{
  "nbformat": 4,
  "nbformat_minor": 0,
  "metadata": {
    "colab": {
      "provenance": []
    },
    "kernelspec": {
      "name": "python3",
      "display_name": "Python 3"
    },
    "language_info": {
      "name": "python"
    }
  },
  "cells": [
    {
      "cell_type": "markdown",
      "source": [
        "# **WorkShop 1: Introdución a IA/ML - Procesamiento y Visualización de Datos**\n",
        "\n",
        "¡Hola! ¡Bienvenidos a AISC Madrid y al primer taller de nuestra nueva serie! En esta serie, aprenderás paso a paso a crear un modelo de aprendizaje automático basado en un dataset.\n",
        "\n",
        "En esta serie construimos un pequeño *pipeline* de Machine Learning de principio a fin:\n",
        "\n",
        "- **Workshop 1 (hoy):** preprocesamiento, EDA (*exploratory data analysis*) y visualización.  \n",
        "- **Workshop 2:** regresión lineal con nuestro dataset limpio. Selección de características, partición *train/test*, métricas.  \n",
        "- **Workshop 3:** introducción a redes neuronales\n",
        "\n",
        "> Objetivo de este taller: que salgas sabiendo **cargar, explorar, limpiar y visualizar** un conjunto de datos real, y exportar un dataset limpio para usar en los próximos dos talleres. No nos centraremos tanto en la teoría, sino que profundizaremos en las aplicaciones de nuestros conocimientos.\n"
      ],
      "metadata": {
        "id": "Hdh6TnRUGY7c"
      }
    },
    {
      "cell_type": "markdown",
      "source": [
        "## 1) **La importancia de los datos**\n",
        "\n",
        "Los datos son el cimiento de cualquier proyecto de IA/ML: determinan los límites de lo que un modelo puede aprender y la fiabilidad de sus predicciones (garbage in, garbage out).\n",
        "\n",
        "Por eso es crítico cuidarlos en todas sus fases:\n",
        "- Busqueda y gobernanza (fuente, licencia, sesgos y privacidad),\n",
        "- Preprocesamiento (limpieza, estandarización de formatos y tipos, tratamiento de valores ausentes y atípicos, enriquecimiento)\n",
        "- Análisis exploratorio (entender distribuciones, relaciones y supuestos)\n",
        "- Visualización (convertir patrones en evidencia accionable y comunicar hallazgos).\n",
        "\n",
        "Un buen flujo de datos —documentado, reproducible y versionado— reduce sesgos, mejora la generalización, acelera la iteración con los modelos y evita malgastar tiempo ajustando algoritmos cuando el verdadero cuello de botella está en la calidad y representatividad del dataset."
      ],
      "metadata": {
        "id": "glKTA5AOQ0HZ"
      }
    },
    {
      "cell_type": "markdown",
      "source": [
        "## 2) **Búsqueda de bases de datos**\n",
        "\n",
        "Existen multiples lugares donde buscar bases de datos de todo tipo. Cómo primero criterio para seleccionar una base de datos adecuada es saber que queremos hacer con nuestro modelo de ML. Entre los lugares más útiles para encontrar datasets están:\n",
        "\n",
        "- [Kaggle Datasets](https://www.kaggle.com/datasets) — Comunidad con miles de datasets y competiciones.\n",
        "\n",
        "- [UCI Machine Learning Repository](https://archive.ics.uci.edu/) — Clásico repositorio académico de datasets estandarizados.\n",
        "\n",
        "\n",
        "- [Google Dataset Search](https://datasetsearch.research.google.com/) — Buscador de datasets en miles de repositorios.\n",
        "\n",
        "\n",
        "- [OpenML](https://www.openml.org/search?type=data) — Plataforma colaborativa con metadatos y APIs.\n",
        "\n",
        "- [Hugging Face Datasets](https://huggingface.co/datasets) — Datasets para NLP, visión y audio listos.\n",
        "\n",
        "\n",
        "> **Hoy usaremos este dataset real:** *[Amazon BestSellers 2025](https://www.kaggle.com/datasets/sanskar21072005/amazon-best-sellers-2025?resource=download)* ( base de datos con información detallada sobre los productos digitales más vendidos de Amazon en 10 mercados globales importantes: India (IN), Estados Unidos (US), Canadá (CA), Australia (AU), Alemania (DE), Francia (FR), Italia (IT), España (ES), Japón (JP) y México (MX) para el año 2025.).  "
      ],
      "metadata": {
        "id": "465ojaHYz1O5"
      }
    },
    {
      "cell_type": "markdown",
      "source": [
        "## 3) **Introducción rápida a Jupyter Notebooks**\n",
        "\n",
        "- **Python** es un **lenguaje de programación**.  \n",
        "- **Jupyter Notebook** es un **entorno interactivo** para *escribir y ejecutar*  Python en celdas (y también texto Markdown como este).\n",
        "\n",
        ">**Metáfora: “hablar español en distintos países”.**\n",
        "El idioma es el mismo (Python), pero puedes “hablarlo” en distintos entornos y herramientas. Un notebook (Jupyter/Colab) es un cuaderno interactivo de celdas; hoy lo ejecutaremos en Google Colab, pero también puedes trabajar en VS Code.\n",
        "\n",
        "* Los cuadernos son útiles porque evitan la necesidad de ejecutar fragmentos de código costosos repetidamente.\n",
        "\n",
        "#### *Consejos de uso*\n",
        "- Una celda de **código** ejecuta Python\n",
        "- Una celda **Markdown** es para texto/formulas.  \n",
        "- El **orden de ejecución** importa. Puedes ejecutar celdas fuera de orden, pero el estado en memoria es el del **último** run."
      ],
      "metadata": {
        "id": "JeiaRsUiQ9ed"
      }
    },
    {
      "cell_type": "code",
      "execution_count": null,
      "metadata": {
        "id": "Inbk2WkkFT1S"
      },
      "outputs": [],
      "source": [
        "# Demostración del orden de ejecución\n",
        "x = 1\n",
        "print(\"x =\", x)"
      ]
    },
    {
      "cell_type": "code",
      "source": [
        "# Si ejecutas esta celda antes que la anterior, x valdrá 1\n",
        "x += 3\n",
        "print(\"x ahora es\", x)"
      ],
      "metadata": {
        "id": "AAH99uaDS9LO"
      },
      "execution_count": null,
      "outputs": []
    },
    {
      "cell_type": "markdown",
      "source": [
        "Las **librerías** son colecciones de código ya hecho que añadimos a nuestros programas para poder reutilizar código. En un notebook importamos librerías con import, ejecutamos la celda y usamos sus funciones en el acto."
      ],
      "metadata": {
        "id": "yR3CBjfEUjLB"
      }
    },
    {
      "cell_type": "code",
      "source": [
        "import time\n",
        "from datetime import datetime\n",
        "\n",
        "time.sleep(5)\n",
        "\n",
        "print(datetime.now())\n",
        "print(\"Mi nombre es Alfonso\")"
      ],
      "metadata": {
        "id": "5yNKGL5WTNqC"
      },
      "execution_count": null,
      "outputs": []
    },
    {
      "cell_type": "markdown",
      "source": [
        "## 4) **Preparar el entorno**\n",
        "\n",
        "En el taller de hoy introduciremos 4 de las librerías más importantes y utilizadas en la Ciencia de Datos, las cuales explicaremos a continuación. Estas son: Pandas, NumPy, Matplotlib y Seaborn.\n",
        "\n",
        "Sin embargo antes de poder utilizarlas, se deben descargar en nuestro entorno primeramente.\n",
        "\n",
        "> **Ejecuta el siguiete bloque de código una sola vez**"
      ],
      "metadata": {
        "id": "pYPdrtqqTNYP"
      }
    },
    {
      "cell_type": "code",
      "source": [
        "# Con este bloque de código importamos todas las librerías necesarias (ya instaladas en Google Colab), abreviando cada una de ellas para facilitarnos su uso\n",
        "import numpy as np\n",
        "import pandas as pd\n",
        "import matplotlib.pyplot as plt\n",
        "import seaborn as sns"
      ],
      "metadata": {
        "id": "7HmyMNKDqAN-"
      },
      "execution_count": null,
      "outputs": []
    },
    {
      "cell_type": "markdown",
      "source": [
        "## 5) **¿Qué es Pandas y NumPy?**\n",
        "\n",
        "**Pandas** es una biblioteca interactiva de **procesamiento de datos** útil para organizar, procesar, visualizar y analizar datos. Pandas es una de las herramientas más útiles que un científico de datos o un ingeniero de aprendizaje automático puede usar, ¡así que nosotros también la usaremos!\n",
        "\n",
        "**NumPy** es la biblioteca fundamental de **cálculo numérico** en Python. Ofrece el tipo **arrays** N-dimensionales y **operaciones vectorizadas** muy rápidas, además de álgebra lineal, estadísticas básicas, y mucha sotras funciones. Muchas herramientas —incluida Pandas— se construyen sobre NumPy, así que también lo usaremos para representar y transformar datos numéricos de forma eficiente antes de modelar."
      ],
      "metadata": {
        "id": "2QkjVRi7S8qN"
      }
    },
    {
      "cell_type": "code",
      "source": [
        "# Imports\n",
        "import numpy as np\n",
        "import pandas as pd\n",
        "\n",
        "# NumPy\n",
        "arr = np.array([1, 2, 3, 4, 5])\n",
        "print(\"Array NumPy:\", arr, \"| tipo:\", type(arr))\n",
        "\n",
        "# Ejemplo sencillo: multiplicación de matrices con NumPy\n",
        "# A es 2x3, B es 3x2 → el resultado C será 2x2\n",
        "A = np.array([[1, 2, 3],\n",
        "              [4, 5, 6]])\n",
        "B = np.array([[1, 0],\n",
        "              [0, 1],\n",
        "              [1, 1]])\n",
        "\n",
        "C = A @ B  # equivalente a np.matmul(A, B) o np.dot(A, B)\n",
        "print(\"A @ B =\\n\", C)\n",
        "print(\"Shapes -> A:\", A.shape, \"B:\", B.shape, \"C:\", C.shape)\n",
        "\n",
        "# Pandas\n",
        "serie = pd.Series([10, 20, 30], name=\"puntos\")\n",
        "df_demo = pd.DataFrame({\"nombre\": [\"Ana\", \"Luis\", \"Zoe\"], \"puntos\": [10, 20, 30]})\n",
        "display(serie)\n",
        "display(df_demo)\n"
      ],
      "metadata": {
        "id": "c3SfPcg_s9Yt",
        "collapsed": true
      },
      "execution_count": null,
      "outputs": []
    },
    {
      "cell_type": "markdown",
      "source": [
        "## 6) **Importación y Lectura de la base de datos**\n",
        "\n",
        "Repasemos algunas habilidades básicas que necesitaremos para usar Pandas con éxito en nuestro trabajo. Pero primeramente debemos importar nuestra base de datos en el Notebook.\n",
        "\n",
        "En el lado derecho de la pantalla encontrarás una barra vertical con el símbolo de una carpeta. Pulsa sobre ella y sube tu base de datos (**Nota**: debe estar descomprimida).\n",
        "\n",
        "Una vez subida la base de datos deberías ver algo tal que así:\n",
        "\n",
        "![foto importacion.png](data:image/png;base64,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)"
      ],
      "metadata": {
        "id": "uXE4crzxszdO"
      }
    },
    {
      "cell_type": "markdown",
      "source": [
        "Hay varias maneras de **leer datos**, pero la más sencilla es leer un **archivo CSV almacenado localmente**. Eso es lo que hacemos aquí: simplemente le indicamos a Pandas que lea un archivo CSV con los datos almacenados localmente"
      ],
      "metadata": {
        "id": "VgrUkUfcvs9O"
      }
    },
    {
      "cell_type": "code",
      "source": [
        "amazon_data = pd.read_csv(\"/content/Amazon_bestsellers_items_2025.csv\")"
      ],
      "metadata": {
        "id": "hUsAgPIkvsnU"
      },
      "execution_count": null,
      "outputs": []
    },
    {
      "cell_type": "markdown",
      "source": [
        "Pandas tiene muchas funciones que pueden usarse para obtener una buena idea de cómo se ven sus datos. Si desea echar un vistazo a su marco de datos completo, simplemente escribe el nombre del dataframe creado y presiona ejecutar:"
      ],
      "metadata": {
        "id": "MYCAPPQlt0CF"
      }
    },
    {
      "cell_type": "code",
      "source": [
        "amazon_data"
      ],
      "metadata": {
        "id": "wORZSfG1wxJR"
      },
      "execution_count": null,
      "outputs": []
    },
    {
      "cell_type": "markdown",
      "source": [
        "A menudo, el conjunto de datos es muy grande y no resulta útil ni relevante examinarlo en su totalidad. La función head() es útil para esto, y se pueden mostrar n filas usando `dataframe.head(n)`"
      ],
      "metadata": {
        "id": "LUS87sNPxANM"
      }
    },
    {
      "cell_type": "code",
      "source": [
        "amazon_data.head()"
      ],
      "metadata": {
        "id": "RwZHjFZGw_NY"
      },
      "execution_count": null,
      "outputs": []
    },
    {
      "cell_type": "markdown",
      "source": [
        "## 7) **Análisis y Manipulación de Datos**"
      ],
      "metadata": {
        "id": "Mb9YkmVEJv63"
      }
    },
    {
      "cell_type": "markdown",
      "source": [
        "Antes de empezar a construir un modelo de ML para nuestro conjunto de datos,siempre es una buena práctica comprender qué contiene exactamente y cómo se ve estos datos. Pandas cuenta con varias herramientas útiles para ello.\n",
        "\n",
        "Utiliza `info()` para ver qué tipos de datos/variables tenemos en nuestro marco de datos:"
      ],
      "metadata": {
        "id": "5X_Ttua8xebo"
      }
    },
    {
      "cell_type": "code",
      "source": [
        "amazon_data.info()"
      ],
      "metadata": {
        "id": "EBiT5X51xpCh"
      },
      "execution_count": null,
      "outputs": []
    },
    {
      "cell_type": "markdown",
      "source": [
        "Como puedes ver, la mayoría de los datos están en formato numérico. Pero también tenemos algunos objetos (probablemente en forma de cadenas) en nuestro conjunto de datos, ¡y tendremos que gestionarlos más adelante!\n",
        "\n",
        "Utiliza `describe()` para obtener estadísticas básicas sobre datos numéricos en su marco de datos.\n",
        "\n"
      ],
      "metadata": {
        "id": "oBh2Vn5PyByq"
      }
    },
    {
      "cell_type": "code",
      "source": [
        "amazon_data.describe()"
      ],
      "metadata": {
        "id": "CBablAQ4yKS3"
      },
      "execution_count": null,
      "outputs": []
    },
    {
      "cell_type": "markdown",
      "source": [
        "Otra función muy interesante dentro de pandas en `isna()` la cual se utiliza para ver si tenemos valores faltantes en nuestros datos:"
      ],
      "metadata": {
        "id": "EoadTRyfHze7"
      }
    },
    {
      "cell_type": "code",
      "source": [
        "amazon_data.isna().sum()"
      ],
      "metadata": {
        "id": "SGNcz5nkIABt"
      },
      "execution_count": null,
      "outputs": []
    },
    {
      "cell_type": "markdown",
      "source": [
        "Acceder a filas o columnas específicas en marcos de datos es muy sencillo. Hay varias maneras de acceder a diferentes filas y columnas. La forma más fácil de acceder a una columna es usando el nombre de la columna:"
      ],
      "metadata": {
        "id": "grm_yHenANO5"
      }
    },
    {
      "cell_type": "code",
      "source": [
        "amazon_data[['product_title','product_star_rating']]"
      ],
      "metadata": {
        "id": "VCpNrBu_ARyj"
      },
      "execution_count": null,
      "outputs": []
    },
    {
      "cell_type": "markdown",
      "source": [
        "También puede utilizar `iloc[]` para acceder a las columnas por su índice:"
      ],
      "metadata": {
        "id": "w1YbfBzGApZw"
      }
    },
    {
      "cell_type": "code",
      "source": [
        "# El primer índice hace referencia a las filas, el segundo a las columnas, por ello así accedemos todas las filas y sus valores en las columnas 2 y 3\n",
        "amazon_data.iloc[:,[2,3]]\n",
        "\n",
        "# Prueba ahora a sacar las todos los valores de las filas 2 y 3\n"
      ],
      "metadata": {
        "id": "W90FrnHkAobT"
      },
      "execution_count": null,
      "outputs": []
    },
    {
      "cell_type": "markdown",
      "source": [
        "Con esta misma función se puede acceder a las filas que nosotros queramos"
      ],
      "metadata": {
        "id": "eZVll3qIBXAQ"
      }
    },
    {
      "cell_type": "code",
      "source": [
        "product_index_4 = amazon_data.iloc[4]\n",
        "product_index_4"
      ],
      "metadata": {
        "id": "j1C_eBZsBWBI"
      },
      "execution_count": null,
      "outputs": []
    },
    {
      "cell_type": "markdown",
      "source": [
        "Las funciones de busqueda y manipulación de datos son muy útiles"
      ],
      "metadata": {
        "id": "bkBh2RSSBzbJ"
      }
    },
    {
      "cell_type": "code",
      "source": [
        "# Vamos a buscar todos los productos que tengan 1 estrella en nuestra base de datos\n",
        "amazon_data.loc[amazon_data['product_star_rating'] == 1.0, 'product_title']"
      ],
      "metadata": {
        "id": "aSlMkHmEBzHZ"
      },
      "execution_count": null,
      "outputs": []
    },
    {
      "cell_type": "code",
      "source": [
        "# Vamos a buscar ahora todos los productos cuyo precio sea menor de 5\n",
        "amazon_data.loc[amazon_data['product_price'] >= 5.0, 'product_title']"
      ],
      "metadata": {
        "id": "hPXdEWEWIU7J"
      },
      "execution_count": null,
      "outputs": []
    },
    {
      "cell_type": "markdown",
      "source": [
        "##### **¿Cúal es el problema?**"
      ],
      "metadata": {
        "id": "uINo-TZBIlKA"
      }
    },
    {
      "cell_type": "markdown",
      "source": [
        "Antes de modelar, es clave **entender el valor y el tipo de dato** con el que trabajamos: no es lo mismo un precio en **texto** con símbolos y comas que un **numérico** en una moneda concreta, ni una fecha como cadena que un objeto datetime.\n",
        "\n",
        "Un buen **preprocesamiento** (limpieza, conversión de tipos, normalización de unidades/monedas y manejo de nulos) garantiza que los algoritmos reciban información coherente y comparable. A veces hay que **manipular** los datos —por ejemplo, convertir precios en ₹ y $ a dólares numéricos— para poder analizarlos, visualizarlos y entrenar modelos de forma fiable."
      ],
      "metadata": {
        "id": "5rRMKsfyJTUR"
      }
    },
    {
      "cell_type": "code",
      "source": [
        "def prices_to_usd_simple(series: pd.Series, inr_to_usd: float = 0.01205) -> pd.Series:\n",
        "    \"\"\"\n",
        "    Función que convierte todos los valores de texto del precio en un vector numérico.\n",
        "    Pasamos todos los valores de '₹' a '$'\n",
        "    \"\"\"\n",
        "    s = series.astype(str)                      # Convertimos la columna a texto para poder limpiarla.\n",
        "    is_inr = s.str.contains(r\"₹\", na=False)     # Creamos una máscara booleana: True si lleva símbolo de rupia.\n",
        "\n",
        "    # Extrae el número: elimina todo salvo dígitos y el punto decimal.\n",
        "    nums = s.str.replace(r\"[^\\d.]\", \"\", regex=True)  # Quita símbolos ($, ₹), comas y letras.\n",
        "    nums = pd.to_numeric(nums, errors=\"coerce\")      # Pasa a número; si no puede, pone NaN.\n",
        "\n",
        "    usd = nums.copy()                               # Copiamos los números “tal cual” (asumimos USD por defecto).\n",
        "    usd[is_inr] = usd[is_inr] * inr_to_usd          # Donde había rupias, convertimos a USD con la tasa dada.\n",
        "    return usd                                      # Devolvemos la serie numérica en dólares.\n"
      ],
      "metadata": {
        "id": "rs1lmNGsFPBj"
      },
      "execution_count": null,
      "outputs": []
    },
    {
      "cell_type": "code",
      "source": [
        "numeric_price = prices_to_usd_simple(amazon_data[\"product_price\"])\n",
        "amazon_data[\"numeric_price\"] = numeric_price\n",
        "amazon_data.tail()"
      ],
      "metadata": {
        "id": "q9TmvvdoGiQd"
      },
      "execution_count": null,
      "outputs": []
    },
    {
      "cell_type": "markdown",
      "source": [
        "## 8) **Limpieza de los datos**"
      ],
      "metadata": {
        "id": "DeDIQGZqdNIu"
      }
    },
    {
      "cell_type": "markdown",
      "source": [
        "  La limpieza de datos garantiza que la información sea coherente, completa y utilizable. Por ahora, hemos realizado una estrategia común que  consiste en corregir tipos (números/fechas) como era el caso de `product_price`; aunque también hay otras estrategias como estandarizar unidades (p. ej., monedas), eliminar duplicados y valores imposibles, o maneja nulos/outliers.\n",
        "  \n",
        " Un buen preprocesamiento reduce errores, acelera el análisis y hace que los modelos aprendan sobre datos fiables y comparables, no sobre ruido.\n",
        "\n",
        " Para continuar con nueestro análisis, hay variables en nuestro dataset que no nos interesan o que no nos aportan mucha información relevante. Por ello, vamos a limpiarlo!"
      ],
      "metadata": {
        "id": "2pHgEPQ6dREe"
      }
    },
    {
      "cell_type": "code",
      "source": [
        "# Guardamos en un array el nombre de las variables que nos interesa mantener\n",
        "keep_cols = [\n",
        "    \"Unnamed: 0\",\n",
        "    \"product_title\",\n",
        "    \"numeric_price\",\n",
        "    \"product_star_rating\",\n",
        "    \"product_num_ratings\",\n",
        "    \"country\",\n",
        "    \"page\",\n",
        "]\n",
        "\n",
        "# Crear el subconjunto limpio (solo las que existan)\n",
        "clean_amazon_data = amazon_data[[c for c in keep_cols if c in amazon_data.columns]].copy()\n",
        "\n",
        "# Vista rápida\n",
        "print(clean_amazon_data.shape)\n",
        "clean_amazon_data.head()"
      ],
      "metadata": {
        "id": "mgz9zewFfZHp"
      },
      "execution_count": null,
      "outputs": []
    },
    {
      "cell_type": "markdown",
      "source": [
        "Vamos a ver ahora cuantos valores nulos tenemos en nuestro dataset para limpiarlo"
      ],
      "metadata": {
        "id": "R5klHgBIkSEH"
      }
    },
    {
      "cell_type": "code",
      "source": [
        "clean_amazon_data.isna().sum()"
      ],
      "metadata": {
        "id": "5ezeurv3kQ9e"
      },
      "execution_count": null,
      "outputs": []
    },
    {
      "cell_type": "markdown",
      "source": [
        "Podemos ver que nuestro dataset tiene valores nulos en varias variables. Sin embargo, hay que razonar siempre si estos valores nulos son coherentes o no. En nuestro caso, tener valores nulos en variables como `product_star_rating` o `product_num_rating` puede ser coherente, ya que puede haber productos que no tengan valoraciones. Sin embargo, no tiene sentido tener productos con un precio nulo.\n",
        "\n",
        "Cuando una variable tiene valores nulos, puedes seguir varias estrategias según el contexto de la misma:\n",
        "1. Eliminar filas si el impacto es pequeño o ignorarlas\n",
        "2. Eliminar la columna si casi todo está vacío o es poco relevante\n",
        "3. Sustituir con estadísticos simples (media/mediana/moda)\n",
        "4. Aplicar algoritmos como el KNN o una regresión para predecir el valor estimado para dicha instancia\n",
        "\n",
        "En nuestro caso, realizaremos el calculo de la media de la variable `numeric_price` y lo sustituiremos en aquellas filas con valor nulo en esta variable, añadiendo un 5% de ruido para que no todas las filas tengan exactamente el mismo valor"
      ],
      "metadata": {
        "id": "PmvzO-xak19Z"
      }
    },
    {
      "cell_type": "code",
      "source": [
        "# Media solo con valores válidos (> 0)\n",
        "m = clean_amazon_data.loc[clean_amazon_data['numeric_price'] > 0, 'numeric_price'].mean()\n",
        "\n",
        "# Máscara: True donde hay 0 **o** NaN\n",
        "mask = clean_amazon_data['numeric_price'].isna() | clean_amazon_data['numeric_price'].eq(0)\n",
        "\n",
        "# Sustituye por media ±5% de ruido\n",
        "clean_amazon_data.loc[mask, 'numeric_price'] = m * (1 + np.random.uniform(-0.05, 0.05, mask.sum()))"
      ],
      "metadata": {
        "id": "RHnkOFXEMSIw"
      },
      "execution_count": null,
      "outputs": []
    },
    {
      "cell_type": "markdown",
      "source": [
        "Vamos a comprombar ahora nuevamnete los valores nulos d ecad avariable para ver si ha funcionado y proceder a la visualización de los datos."
      ],
      "metadata": {
        "id": "aYQqmk7TPJ_-"
      }
    },
    {
      "cell_type": "code",
      "source": [
        "clean_amazon_data.isna().sum()"
      ],
      "metadata": {
        "id": "fFIR-oFBPSnY"
      },
      "execution_count": null,
      "outputs": []
    },
    {
      "cell_type": "markdown",
      "source": [
        "## 9) **Visualización de Datos**"
      ],
      "metadata": {
        "id": "VU9mxL7PKMrC"
      }
    },
    {
      "cell_type": "markdown",
      "source": [
        "La **visualización de datos** es la forma más rápida de **detectar patrones, errores y relaciones** que no saltan a la vista en una tabla: ayuda a validar supuestos, encontrar outliers, entender distribuciones y tendencias, y comunicar hallazgos con claridad a cualquier público. Un buen gráfico ahorra iteraciones de análisis y acelera decisiones en ciencia de datos, guiando qué limpiar, qué transformar y qué variables priorizar antes de modelar."
      ],
      "metadata": {
        "id": "oc6Q6jNpKS3S"
      }
    },
    {
      "cell_type": "markdown",
      "source": [
        "Para ello se suelen utilizar dos librerías:\n",
        "- **Matplotlib**: la biblioteca base de gráficos 2D en Python. Ofrece control fino (figuras, ejes, estilos) y es el fundamento sobre el que se apoyan muchas otras librerías, incluido el .plot() de pandas.\n",
        "\n",
        "- **Seaborn**: capa de alto nivel sobre Matplotlib con estilos por defecto y funciones estadísticas listas para usar. Se integra muy bien con DataFrames de pandas y facilita gráficos como histplot, boxplot, regplot, heatmap o pairplot con muy poco código."
      ],
      "metadata": {
        "id": "cVdYUUvnK2yT"
      }
    },
    {
      "cell_type": "markdown",
      "source": [
        "Primero, vamos a realizar un **histograma** de las valoraciones con estrellas de los usuarios de aquellos productos que se encuentran en la primera página"
      ],
      "metadata": {
        "id": "fdAevgvCLS6l"
      }
    },
    {
      "cell_type": "code",
      "source": [
        "ratings_p1 = clean_amazon_data.loc[clean_amazon_data['page'] == 1, 'product_star_rating'].dropna()\n",
        "\n",
        "num_bins = 10 # número de grupos\n",
        "\n",
        "plt.figure()\n",
        "plt.hist(ratings_p1, num_bins)\n",
        "plt.xlabel(\"Estrellas\")\n",
        "plt.ylabel(\"Frecuencia\")\n",
        "plt.title(\"Histograma de clasificación por estrellas\")\n",
        "plt.show()"
      ],
      "metadata": {
        "id": "kOzp6487KSFX"
      },
      "execution_count": null,
      "outputs": []
    },
    {
      "cell_type": "markdown",
      "source": [
        "Habrá mucha diferencia con aquellos que están en la segunda página? Vamos a comprobarlo!"
      ],
      "metadata": {
        "id": "Ixvwu9apOo38"
      }
    },
    {
      "cell_type": "code",
      "source": [
        "ratings_p2 = clean_amazon_data.loc[clean_amazon_data['page'] == 2, 'product_star_rating'].dropna()\n",
        "\n",
        "num_bins = 10\n",
        "\n",
        "plt.figure()\n",
        "plt.hist(ratings_p2, num_bins)\n",
        "plt.xlabel(\"Estrellas\")\n",
        "plt.ylabel(\"Frecuencia\")\n",
        "plt.title(\"Histograma de clasificación por estrellas\")\n",
        "plt.show()"
      ],
      "metadata": {
        "id": "w8WAr1HLKR0n"
      },
      "execution_count": null,
      "outputs": []
    },
    {
      "cell_type": "markdown",
      "source": [
        "No parece gran diferencia verdad? Pero ojo, tenemos que tener en cuenta que las dos gráficas no tienen la misma escala en el eje Y. Vamos a superponerlas y veamos si la diferencia real !"
      ],
      "metadata": {
        "id": "H1vjuwtZPqUJ"
      }
    },
    {
      "cell_type": "code",
      "source": [
        "num_bins=10\n",
        "\n",
        "plt.hist([ratings_p1, ratings_p2], num_bins, label=['Page 1', 'Page 2'])\n",
        "plt.legend(loc='upper left')\n",
        "plt.show()"
      ],
      "metadata": {
        "id": "ezxXDtCRP9Gd"
      },
      "execution_count": null,
      "outputs": []
    },
    {
      "cell_type": "markdown",
      "source": [
        "Vamos a visualizar ahora la distribucion de los productos con más de 4.5 estrellas por países"
      ],
      "metadata": {
        "id": "xogZ7bAmTLNY"
      }
    },
    {
      "cell_type": "code",
      "source": [
        "# Conteo de productos por país (ignorando nulos)\n",
        "counts = (amazon_data.loc[amazon_data['product_star_rating'] >= 4.5, 'country']\n",
        "          .dropna()\n",
        "          .value_counts()\n",
        "          .sort_values(ascending=False))\n",
        "\n",
        "plt.figure()\n",
        "plt.pie(counts.values, labels=counts.index, autopct='%1.1f%%', startangle=90)\n",
        "plt.title('Productos por país (rating ≥ 4.5★)')\n",
        "plt.axis('equal')  # círculo perfecto\n",
        "plt.show()\n"
      ],
      "metadata": {
        "id": "KhaNI8ATTHS9"
      },
      "execution_count": null,
      "outputs": []
    },
    {
      "cell_type": "markdown",
      "source": [
        "También suele ser útil observar cómo se relacionan entre sí las diferentes variables. `corr()` es una función útil para esto. Sin embargo, la correlación solo se puede hacer con variables de tipo numérico, asi que vamos a hacer un nuevo database de los valores numericos para poder ver si existe alguna relaicón entre ellos"
      ],
      "metadata": {
        "id": "40LNI4oWgYCA"
      }
    },
    {
      "cell_type": "code",
      "source": [
        "# Guardamos en un array el nombre de las variables que nos interesa mantener\n",
        "keep_num_cols = [\n",
        "    \"numeric_price\",\n",
        "    \"product_star_rating\",\n",
        "    \"product_num_ratings\",\n",
        "    \"page\",\n",
        "]\n",
        "\n",
        "# (Opcional aunque recomendable) Aviso si alguna no existe\n",
        "missing = [c for c in keep_num_cols if c not in clean_amazon_data.columns]\n",
        "if missing:\n",
        "    print(\"Advertencia: faltan las siguientes columnas ->\", missing)\n",
        "\n",
        "num_clean_amazon_data = clean_amazon_data[[c for c in keep_num_cols if c in clean_amazon_data.columns]].copy()\n",
        "\n",
        "# Vista rápida\n",
        "print(num_clean_amazon_data.shape)\n",
        "num_clean_amazon_data.head()"
      ],
      "metadata": {
        "id": "VGe0AvMXhfv1"
      },
      "execution_count": null,
      "outputs": []
    },
    {
      "cell_type": "code",
      "source": [
        "c = num_clean_amazon_data.corr()\n",
        "c"
      ],
      "metadata": {
        "id": "lohJmgUhgvhw",
        "collapsed": true
      },
      "execution_count": null,
      "outputs": []
    },
    {
      "cell_type": "markdown",
      "source": [
        "Solo con los números puede ser una forma difícil de ver la relación entre variables. Una forma interesante de visualizar esta correlación es utilizando la función de mapa de calor de la biblioteca seaborn:"
      ],
      "metadata": {
        "id": "jLXvAl1Rh7J_"
      }
    },
    {
      "cell_type": "code",
      "source": [
        "sns.heatmap(c)"
      ],
      "metadata": {
        "id": "LEbIFZnPiG56"
      },
      "execution_count": null,
      "outputs": []
    },
    {
      "cell_type": "markdown",
      "source": [
        "**¿Qué variables puede ser iteresante analizar viendo este mapa de calor?**"
      ],
      "metadata": {
        "id": "wKS2Mdj2iSOE"
      }
    },
    {
      "cell_type": "code",
      "source": [
        "xy = clean_amazon_data[['product_star_rating', 'product_num_ratings']].dropna()\n",
        "\n",
        "plt.figure()\n",
        "plt.scatter(xy['product_star_rating'], xy['product_num_ratings'], s=12)\n",
        "plt.xlabel('product_star_rating')\n",
        "plt.ylabel('product_num_ratings')\n",
        "plt.title('Estrellas vs número de valoraciones')\n",
        "plt.show()"
      ],
      "metadata": {
        "id": "9sDFP90sjHVI"
      },
      "execution_count": null,
      "outputs": []
    },
    {
      "cell_type": "markdown",
      "source": [
        "## 10) **Exportación de datos**"
      ],
      "metadata": {
        "id": "Ecn8bvtvjykR"
      }
    },
    {
      "cell_type": "markdown",
      "source": [
        "Con los datos ya limpios y coherentes, el siguiente paso es exportarlos para compartirlos y reutilizarlos en futuros proyectos. el formato más común suele ser la exportación en `.csv`"
      ],
      "metadata": {
        "id": "1DGpwyk1kfsD"
      }
    },
    {
      "cell_type": "code",
      "source": [
        "clean_amazon_data.to_csv(\"clean_amazon_data.csv\", index=False, encoding=\"utf-8\")"
      ],
      "metadata": {
        "id": "e0zpVMT7ke-b"
      },
      "execution_count": null,
      "outputs": []
    }
  ]
}